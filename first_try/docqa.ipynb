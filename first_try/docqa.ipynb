{
 "cells": [
  {
   "cell_type": "code",
   "execution_count": 1,
   "metadata": {},
   "outputs": [],
   "source": [
    "from langchain.text_splitter import CharacterTextSplitter\n",
    "from langchain.document_loaders import Docx2txtLoader\n",
    "\n",
    "loader = Docx2txtLoader('/data/documents/分布式计算系统.docx')\n",
    "input_doc = loader.load()\n",
    "text_splitter = CharacterTextSplitter(chunk_size=650, chunk_overlap=0)\n",
    "texts = text_splitter.split_documents(input_doc)"
   ]
  },
  {
   "cell_type": "code",
   "execution_count": 2,
   "metadata": {},
   "outputs": [
    {
     "data": {
      "text/plain": [
       "[Document(page_content='《分布式计算系统》课程教学大纲\\n\\n课程代码\\n\\nDATA0031131017.02\\n\\n课程性质\\n\\n专业必修\\n\\n课程名称：\\n\\n分布式计算系统\\n\\n英文名称\\n\\nDistributed Computing System\\n\\n学时/学分\\n\\n72\\n\\n其中实验/实践学时\\n\\n36\\n\\n开课单位\\n\\n数据科学与工程学院\\n\\n适用专业：\\n\\n数据科学与大数据技术\\n\\n先修课程\\n\\n计算机系统、操作系统、计算机网络原理、当代数据管理系统\\n\\n大纲撰写人\\n\\n徐辰\\n\\n大纲审核人\\n\\n钱卫宁\\n\\n课程网址\\n\\nhttps://dasebigdata.github.io\\n\\n授课语言\\n\\n中文\\n\\n注：课程性质选择下列类别之一：学科基础、大类平台、专业必修、专业选修、教师教育\\n\\n一、课程说明\\n\\n这门课程是为数据科学与大数据技术专业本科生开设的核心专业必修课。本课程将理论与实践为一体。一方面，本课程选取了典型的分布式计算系统，包括MapReduce、Spark、Flink，统一从设计思想、体系架构、工作原理、容错机制和编程使用五个维度进行剖析，以原理探究为核心，培养学生的思辨和分析能力。另一方面，本课程同步配套实践环节，以实践探索为核心，着力培养学生的动手实践能力。\\n\\n二、课程目标\\n\\n本课程的目标是使已经具备编程能力和计算机系统相关知识的学习者，获得关于分布式计算系统的知识，具备运用分布式计算系统处理大规模数据的能力，以适应学习和工作的需要。对学习者的具体目标有：\\n\\n目标1：了解分布式计算系统的基本原理与技术。（支撑毕业要求1、3）', metadata={'source': '/data/documents/分布式计算系统.docx'}),\n",
       " Document(page_content='目标2：理解各类分布式计算系统架构联系与区别，能够阐述系统发展演变的内在逻辑。（支撑毕业要求3、5）\\n\\n目标3：掌握分布式计算系统设计的核心原理，能够结合实践分析比较各类系统的优缺点。（支撑毕业要求3、4、5）\\n\\n目标4：运用分布式计算系统进行编程，能够根据理论知识合理地优化程序设计。（支撑毕业要求2、4、5）\\n\\n二、课程目标与毕业要求的对应关系\\n\\n毕业要求\\n\\n指标点\\n\\n课程目标\\n\\n1.理想信念坚定\\n\\n具有正确的价值观和道德观，爱国、诚信、守法；\\n\\n课程目标1\\n\\n具有高度的社会责任感和良好的协作精神；\\n\\n具备工科学生所需要的科学精神和人文社会科学素养。\\n\\n2.专业技能扎实\\n\\n掌握工科学生所必须的数学知识；\\n\\n课程目标4\\n\\n掌握数据科学与工程的基础知识，包括相关的计算机、统计与应用数学、信息系统的基础知识；\\n\\n掌握数据分析和机器学习的基本模型和算法。\\n\\n3.学科理念先进\\n\\n深刻理解数据的获取、建模、管理、利用的全生命周期，深刻理解数据科学与工程相关技术发展与社会经济发展的关系；\\n\\n课程目标1、2、3\\n\\n深刻理解数据对于社会经济发展的赋能作用，了解金融、物流、零售、制造等领域的典型应用的技术问题并掌握主要解决方法。\\n\\n4.工程能力全面\\n\\n掌握主要的数据管理和处理工具以及系统平台的使用，熟知它们的特点、系统架构，具备基本的数据系统的设计和开发能力；\\n\\n课程目标3、4\\n\\n了解大数据应用中需求分析、数据和应用建模、系统选型、应用设计、开发和实施的过程，具备合作进行系统和应用研发能力；', metadata={'source': '/data/documents/分布式计算系统.docx'}),\n",
       " Document(page_content='掌握开源软件的设计和开发方法，掌握云计算平台的使用技术，掌握基于云计算的应用设计、开发、实施、运维方法与技术；\\n\\n具备参与数据系统或数据应用设计、开发、运维工程所需的沟通交流与协作能力，掌握基本的工程管理知识与能力。\\n\\n5.研究能力突出\\n\\n了解“数据科学与工程”学科领域，以及相关应用领域的技术发展前沿；\\n\\n课程目标2、3、4\\n\\n具有初步的从事数据科学与工程研究工作的科学训练，具有从事相关学科科学研究、教学或工程开发的技术工作的能力。\\n\\n三、教学内容与学时安排\\n\\n第一章\\t绪论（支撑课程目标1）\\n\\n学时：理论3、实验4\\n\\n从数据管理角度看分布式系统\\n\\n分布式计算系统的内涵与外延\\n\\n要求学生：初步了解分布式计算系统有关基本概念\\n\\n实验：熟悉Linux基本操作和集群的访问；熟悉上机操作环境；完成编程环境的设置，掌握编写Java程序的基本流程。\\n\\n第二章\\tHadoop文件系统（支撑课程目标1、2）\\n\\n学时：理论3、实验2\\n\\nHDFS的设计思想和体系架构\\n\\nHDFS工作原理（文件读写与访问模型）\\n\\nHDFS容错机制和文件读写编程\\n\\n要求学生：理解文件系统与分布式文件系统的联系与区别，了解HDFS的架构和工作流程，理解文件访问模型；掌握单机伪分布式部署Hadoop的方法，掌握基本的HDFS文件访问API。\\n\\n实验：学习Hadoop的部署，熟悉常用的命令，并且编写程序利用HDFS的API进行文件读写\\n\\n第三章\\t批处理系统MapReduce （支撑课程目标4）\\n\\n学时：理论8、实验8', metadata={'source': '/data/documents/分布式计算系统.docx'}),\n",
       " Document(page_content='MapReduce设计思想和体系架构\\n\\nMapReduce工作原理（Map、Shuffle、Reduce的工作过程）\\n\\nMapReduce的容错机制\\n\\nMapReduce基础编程\\n\\n编程作业评析\\n\\n要求学生：理解MapReduce的体系架构和程序运行过程，了解容错机制；掌握MapReduce基本程序设计，并熟练运用。\\n\\n实验：掌握Hadoop 2.0的部署方法；学习使用Java语言编写MapReduce程序\\n\\n第四章\\t批处理系统Spark （支撑课程目标3、4）\\n\\n学时：理论8、实验8\\n\\nSpark设计思想（RDD数据模型、DAG计算模型）\\n\\nSpark体系架构与工作原理\\n\\nSpark容错机制\\n\\nRDD基础编程\\n\\n编程作业评析\\n\\n要求学生：掌握Spark的体系架构，理解Spark与MapReduce之间的差异，了解Spark内部工作流程与容错机制；掌握Spark的部署与编程方式，理解各类API之间的区别。\\n\\n实验：Spark部署、使用Spark Shell编程，以及使用Java语言编写的程序\\n\\n第五章\\t资源管理系统Yarn（支撑课程目标1、2）\\n\\n学时：理论2、实验2\\n\\nYarn设计思想与工作原理\\n\\nYarn应用案例（第二代MapReduce、基于Yarn的Spark部署）\\n\\n要求学生：理解资源管理系统的作用以及平台和框架的概念，了解Yarn工作原理。\\n\\n实验：基于Yarn部署MapReduce和Spark，并运用Yarn的UI进行作业监控', metadata={'source': '/data/documents/分布式计算系统.docx'}),\n",
       " Document(page_content='第六章 流计算系统Flink（支撑课程目标3、4）\\n\\n学时：理论8、实验10\\n\\nFlink设计思想（DataStream数据模型、DAG计算模型、迭代模型）\\n\\nFlink体系架构与数据传输方式\\n\\nFlink状态管理与容错机制\\n\\nDataStream基础编程\\n\\n编程作业评析\\n\\n要求学生：理解Flink的设计思想，流计算系统与批处理系统的区别；掌握Flink的DataStream编程，并且熟练运用。\\n\\n实验：部署Flink；并利用Java语言进行DataStream编程；基于Yarn运行Flink程序\\n\\n第七章 总结（支撑课程目标1、2、3、4）\\n\\n学时：理论4、实验2\\n\\n课程总结\\n\\n课程答疑\\n\\n要求学生：回顾课程内容，从更高层面理解内容之间的逻辑关系\\n\\n实验：回顾课程实验，总结编程部署的一般方法\\n\\n四、教学方法\\n\\n主要教学手段为大班讲授及个别辅导，理论教学方式结合多媒体课件，采用线下教学形式，依托课程网站、水杉在线、钉钉群等进行课程资源发布、作业收集等，课前采用“讨论式”“启发式”检查预习效果和复习巩固。实验教学中的关键的实验操作等提前进行演示录制，随堂对学生操作等进行个别指导，强化学生实验操作技能和规范实验习惯。此外，理论教学过程中，结合实验教学内容，引导学生针对实验现象验证理论内容并进行分析，提升科学思维能力。\\n\\n五、考核方式\\n\\n课程考核由平时成绩和期末成绩组成，分别占50%、50%，详见下表。\\n\\n考核方式\\n\\n占该项比例\\n\\n占总评比例\\n\\n平时成绩\\n\\n考勤\\n\\n10%\\n\\n5%', metadata={'source': '/data/documents/分布式计算系统.docx'}),\n",
       " Document(page_content='课堂表现\\n\\n15%\\n\\n7.5%\\n\\nMapReduce编程作业\\n\\n15%\\n\\n7.5%\\n\\nSpark编程作业\\n\\n15%\\n\\n7.5%\\n\\nHadoop实验\\n\\n15%\\n\\n7.5%\\n\\nSpark实验\\n\\n15%\\n\\n7.5%\\n\\nFlink实验\\n\\n15%\\n\\n7.5%\\n\\n期末成绩\\n\\n笔试\\n\\n100%\\n\\n50%\\n\\n课程目标与考核方式对应关系如下：\\n\\n     考核方式\\n\\n课程目标\\n\\n考勤\\n\\n课堂表现\\n\\nMapReduce/Spark编程作业\\n\\nHadoop/Spark/Flink实验\\n\\n笔试\\n\\n课程目标1\\n\\n√\\n\\n√\\n\\n√\\n\\n√\\n\\n课程目标2\\n\\n√\\n\\n√\\n\\n√\\n\\n课程目标3\\n\\n√\\n\\n√\\n\\n√\\n\\n课程目标4\\n\\n√\\n\\n√\\n\\n√\\n\\n六、推荐教材和参考资料\\n\\n（一）推荐教材：\\n\\n1.《分布式计算系统》，徐辰编著，高等教育出版社，2022年。\\n\\n \\n\\n（二）参考资料：\\n\\n1.《设计数据密集型应用》（影印版），Martin Kleppmann著，东南大学出版社，2017年。\\n\\n2.《大数据处理框架Apache Spark设计与实现》，许利杰、方亚芬著，电子工业出版社，2020年。\\n\\n3.《大数据计算系统：原理、技术与应用》，王宏志、刘海龙、张立臣、石胜飞编著，机械工业出版社，2023年。\\n\\n七、评分标准\\n\\n课程目标\\n\\n评分标准\\n\\n90-100\\n\\n80-89\\n\\n70-79\\n\\n60-69\\n\\n0-59\\n\\n目标1：了解分布式计算系统的基本原理与技术。\\n\\n能够准确、全面地了解分布式计算系统的基本原理与技术', metadata={'source': '/data/documents/分布式计算系统.docx'}),\n",
       " Document(page_content='能够准确地了解分布式计算系统的基本原理与技术\\n\\n能够大致了解分布式计算系统的基本原理与技术\\n\\n了解一些分布式计算系统的基本原理与技术\\n\\n完全不了解分布式计算系统的基本原理与技术\\n\\n目标2：理解各类分布式计算系统架构联系与区别，能够阐述系统发展演变的内在逻辑。\\n\\n深刻理解各类分布式计算系统架构联系与区别，熟练阐述、分析系统发展演变的内在逻辑\\n\\n理解各类分布式计算系统架构联系与区别，较为熟练阐述、分析系统发展演变的内在逻辑\\n\\n基本能够理解各类分布式计算系统架构联系与区别，可以阐述、分析一些系统发展演变的内在逻辑\\n\\n能够勉强地理解各类分布式计算系统架构联系与区别，但对系统发展演变的内在逻辑缺乏认识\\n\\n不能够理解各类分布式计算系统架构联系与区别，对系统发展演变的内在逻辑缺乏认识\\n\\n目标3：掌握分布式计算系统设计的核心原理的基础，能够结合实践分析比较各类系统的优缺点。\\n\\n在完全理解、掌握分布式计算系统设计的核心原理的基础上，熟练结合实践分析比较各类系统的优缺点\\n\\n在理解、掌握分布式计算系统设计的核心原理的基础上，能够结合实践分析比较各类系统的优缺点\\n\\n在大致理解、掌握分布式计算系统设计的核心原理，可以结合实践分析比较各类系统的优缺点\\n\\n大致理解、掌握分布式计算系统设计的核心原理，但无法结合实践分析比较各类系统的优缺点\\n\\n不能理解分布式计算系统设计的核心原理的基础上，无法结合实践分析比较各类系统的优缺点\\n\\n目标4：运用分布式计算系统进行编程，能够根据理论知识合理地优化程序设计。', metadata={'source': '/data/documents/分布式计算系统.docx'}),\n",
       " Document(page_content='能熟练地运用分布式计算系统进行编程，能够根据理论知识合理地优化程序设计\\n\\n能较为熟练地运用分布式计算系统进行编程，能够根据理论知识优化程序设计\\n\\n能大致运用分布式计算系统进行编程，能够进行一些程序设计的优化\\n\\n大致能够运用分布式计算系统进行编程，但无法对程序进行优化\\n\\n不能够运用分布式计算系统进行编程，也无法对程序进行优化', metadata={'source': '/data/documents/分布式计算系统.docx'})]"
      ]
     },
     "execution_count": 2,
     "metadata": {},
     "output_type": "execute_result"
    }
   ],
   "source": [
    "texts"
   ]
  },
  {
   "cell_type": "code",
   "execution_count": null,
   "metadata": {},
   "outputs": [],
   "source": [
    "from bigdl.llm.langchain.embeddings import TransformersEmbeddings\n",
    "\n",
    "embeddings = TransformersEmbeddings.from_model_id(model_id=\"/data/vicuna-7b-v1.5\")"
   ]
  },
  {
   "cell_type": "code",
   "execution_count": null,
   "metadata": {},
   "outputs": [],
   "source": [
    "from langchain.vectorstores import FAISS\n",
    "\n",
    "docsearch = FAISS.from_texts(texts, embeddings).as_retriever()"
   ]
  },
  {
   "cell_type": "code",
   "execution_count": null,
   "metadata": {},
   "outputs": [],
   "source": [
    "query = \"这门课程的老师是谁？\"\n",
    "docs = docsearch.get_relevant_documents(query)\n",
    "print(\"-\"*20+\"number of relevant documents\"+\"-\"*20)\n",
    "print(len(docs))"
   ]
  },
  {
   "cell_type": "code",
   "execution_count": null,
   "metadata": {},
   "outputs": [],
   "source": [
    "from langchain.chains.chat_vector_db.prompts import QA_PROMPT\n",
    "from langchain.chains.question_answering import load_qa_chain\n",
    "\n",
    "from bigdl.llm.langchain.llms import TransformersLLM\n",
    "\n",
    "llm = TransformersLLM.from_model_id(\n",
    "        model_id=\"/data/vicuna-7b-v1.5\",\n",
    "        model_kwargs={\"temperature\": 0, \"max_length\": 1024, \"trust_remote_code\": True},\n",
    "    )\n",
    "\n",
    "doc_chain = load_qa_chain(\n",
    "    llm, chain_type=\"stuff\", prompt=QA_PROMPT\n",
    ")"
   ]
  }
 ],
 "metadata": {
  "kernelspec": {
   "display_name": "llm-tutorial",
   "language": "python",
   "name": "python3"
  },
  "language_info": {
   "codemirror_mode": {
    "name": "ipython",
    "version": 3
   },
   "file_extension": ".py",
   "mimetype": "text/x-python",
   "name": "python",
   "nbconvert_exporter": "python",
   "pygments_lexer": "ipython3",
   "version": "3.9.18"
  }
 },
 "nbformat": 4,
 "nbformat_minor": 2
}
